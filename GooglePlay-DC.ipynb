{
 "cells": [
  {
   "cell_type": "markdown",
   "id": "43d83513-9604-4785-8519-95bc7c6d621a",
   "metadata": {},
   "source": [
    "<h2 style=\"color:#00008B\"> GOOGLE PLAY - DATA CLEANING </h2>\n",
    "\n",
    "<p style=\"color:green\"> This project utilizes the Google Play Store dataset obtained from Kaggle, comprising over 2 million rows. The dataset contains several key columns that provide valuable insights into app characteristics and user interactions.<br><br>\n",
    "<b>Ad Supported:</b> Indicates if the app is ad-supported. <br><br>\n",
    "<b>App Id:</b> Unique identifier for each app. <br><br>\n",
    "<b>App Name:</b> The name of the app. <br><br>\n",
    "<b>Category:</b> The category to which the app belongs (e.g., Games, Productivity). <br><br>\n",
    "<b>Content Rating:</b> Age rating for the app's content. <br><br>\n",
    "<b>Currency:</b> Currency used for pricing. <br><br>\n",
    "<b>Developer Email:</b> Email contact for the developer. <br><br>\n",
    "<b>Developer Id:</b> Unique identifier for the developer. <br><br>\n",
    "<b>Developer Website:</b> Website of the app developer. <br><br>\n",
    "<b>Editors Choice:</b> Indicates if the app is an editor's choice. <br><br>\n",
    "<b>Free:</b> Indicates if the app is free to download. <br><br>\n",
    "<b>In-App Purchases:</b> Indicates if the app offers in-app purchases. <br><br>\n",
    "<b>Installs:</b> Total number of installs for the app. <br><br>\n",
    "<b>Last Updated:</b> Date when the app was last updated. <br><br>\n",
    "<b>Maximum Installs:</b> The highest number of installs recorded. <br><br>\n",
    "<b>Minimum Android:</b> Minimum Android version required to run the app. <br><br>\n",
    "<b>Minimum Installs:</b> Minimum number of installs recorded. <br><br>\n",
    "<b>Price:</b> The price of the app. <br><br>\n",
    "<b>Privacy Policy:</b> Link to the app's privacy policy. <br><br>\n",
    "<b>Rating:</b> Average user rating for the app. <br><br>\n",
    "<b>Released:</b> Release date of the app. <br><br>\n",
    "<b>Scraped Time:</b> Timestamp of when the data was scraped. <br><br>\n",
    "<b>Size:</b> Size of the app in MB. <br>\n",
    "</p>"
   ]
  },
  {
   "cell_type": "markdown",
   "id": "7ddf9d6a-5505-4ea0-9e97-70c48c0e5dd4",
   "metadata": {},
   "source": [
    "<h4 style=\"color:#00008B\"> Importing Libraries </h4>"
   ]
  },
  {
   "cell_type": "code",
   "execution_count": 1,
   "id": "d036882b-05fd-45e5-8635-7c379f34604a",
   "metadata": {},
   "outputs": [],
   "source": [
    "import pandas as pd\n",
    "import numpy as np\n",
    "import seaborn as sns\n",
    "import matplotlib.pyplot as plt"
   ]
  },
  {
   "cell_type": "code",
   "execution_count": 2,
   "id": "c28c3f26-0e36-4dea-8f43-4c9b0406c450",
   "metadata": {},
   "outputs": [
    {
     "data": {
      "text/html": [
       "<div>\n",
       "<style scoped>\n",
       "    .dataframe tbody tr th:only-of-type {\n",
       "        vertical-align: middle;\n",
       "    }\n",
       "\n",
       "    .dataframe tbody tr th {\n",
       "        vertical-align: top;\n",
       "    }\n",
       "\n",
       "    .dataframe thead th {\n",
       "        text-align: right;\n",
       "    }\n",
       "</style>\n",
       "<table border=\"1\" class=\"dataframe\">\n",
       "  <thead>\n",
       "    <tr style=\"text-align: right;\">\n",
       "      <th></th>\n",
       "      <th>App Name</th>\n",
       "      <th>App Id</th>\n",
       "      <th>Category</th>\n",
       "      <th>Rating</th>\n",
       "      <th>Rating Count</th>\n",
       "      <th>Installs</th>\n",
       "      <th>Minimum Installs</th>\n",
       "      <th>Maximum Installs</th>\n",
       "      <th>Free</th>\n",
       "      <th>Price</th>\n",
       "      <th>...</th>\n",
       "      <th>Developer Website</th>\n",
       "      <th>Developer Email</th>\n",
       "      <th>Released</th>\n",
       "      <th>Last Updated</th>\n",
       "      <th>Content Rating</th>\n",
       "      <th>Privacy Policy</th>\n",
       "      <th>Ad Supported</th>\n",
       "      <th>In App Purchases</th>\n",
       "      <th>Editors Choice</th>\n",
       "      <th>Scraped Time</th>\n",
       "    </tr>\n",
       "  </thead>\n",
       "  <tbody>\n",
       "    <tr>\n",
       "      <th>0</th>\n",
       "      <td>Gakondo</td>\n",
       "      <td>com.ishakwe.gakondo</td>\n",
       "      <td>Adventure</td>\n",
       "      <td>0.0</td>\n",
       "      <td>0.0</td>\n",
       "      <td>10+</td>\n",
       "      <td>10.0</td>\n",
       "      <td>15</td>\n",
       "      <td>True</td>\n",
       "      <td>0.0</td>\n",
       "      <td>...</td>\n",
       "      <td>https://beniyizibyose.tk/#/</td>\n",
       "      <td>jean21101999@gmail.com</td>\n",
       "      <td>Feb 26, 2020</td>\n",
       "      <td>Feb 26, 2020</td>\n",
       "      <td>Everyone</td>\n",
       "      <td>https://beniyizibyose.tk/projects/</td>\n",
       "      <td>False</td>\n",
       "      <td>False</td>\n",
       "      <td>False</td>\n",
       "      <td>2021-06-15 20:19:35</td>\n",
       "    </tr>\n",
       "    <tr>\n",
       "      <th>1</th>\n",
       "      <td>Ampere Battery Info</td>\n",
       "      <td>com.webserveis.batteryinfo</td>\n",
       "      <td>Tools</td>\n",
       "      <td>4.4</td>\n",
       "      <td>64.0</td>\n",
       "      <td>5,000+</td>\n",
       "      <td>5000.0</td>\n",
       "      <td>7662</td>\n",
       "      <td>True</td>\n",
       "      <td>0.0</td>\n",
       "      <td>...</td>\n",
       "      <td>https://webserveis.netlify.app/</td>\n",
       "      <td>webserveis@gmail.com</td>\n",
       "      <td>May 21, 2020</td>\n",
       "      <td>May 06, 2021</td>\n",
       "      <td>Everyone</td>\n",
       "      <td>https://dev4phones.wordpress.com/licencia-de-uso/</td>\n",
       "      <td>True</td>\n",
       "      <td>False</td>\n",
       "      <td>False</td>\n",
       "      <td>2021-06-15 20:19:35</td>\n",
       "    </tr>\n",
       "  </tbody>\n",
       "</table>\n",
       "<p>2 rows × 24 columns</p>\n",
       "</div>"
      ],
      "text/plain": [
       "              App Name                      App Id   Category  Rating  \\\n",
       "0              Gakondo         com.ishakwe.gakondo  Adventure     0.0   \n",
       "1  Ampere Battery Info  com.webserveis.batteryinfo      Tools     4.4   \n",
       "\n",
       "   Rating Count Installs  Minimum Installs  Maximum Installs  Free  Price  \\\n",
       "0           0.0      10+              10.0                15  True    0.0   \n",
       "1          64.0   5,000+            5000.0              7662  True    0.0   \n",
       "\n",
       "   ...                Developer Website         Developer Email      Released  \\\n",
       "0  ...      https://beniyizibyose.tk/#/  jean21101999@gmail.com  Feb 26, 2020   \n",
       "1  ...  https://webserveis.netlify.app/    webserveis@gmail.com  May 21, 2020   \n",
       "\n",
       "   Last Updated Content Rating  \\\n",
       "0  Feb 26, 2020       Everyone   \n",
       "1  May 06, 2021       Everyone   \n",
       "\n",
       "                                      Privacy Policy Ad Supported  \\\n",
       "0                 https://beniyizibyose.tk/projects/        False   \n",
       "1  https://dev4phones.wordpress.com/licencia-de-uso/         True   \n",
       "\n",
       "  In App Purchases Editors Choice         Scraped Time  \n",
       "0            False          False  2021-06-15 20:19:35  \n",
       "1            False          False  2021-06-15 20:19:35  \n",
       "\n",
       "[2 rows x 24 columns]"
      ]
     },
     "execution_count": 2,
     "metadata": {},
     "output_type": "execute_result"
    }
   ],
   "source": [
    "# Create a DataFrame from the Google Play Store CSV file\n",
    "data = pd.read_csv(\"Google-Playstore.csv\")\n",
    "data.head(2)"
   ]
  },
  {
   "cell_type": "markdown",
   "id": "1d43f065-03ed-4f2e-8ec2-5c12ea1ef8dd",
   "metadata": {},
   "source": [
    "<h2 style=\"color:#00008B\">Data Cleaning </h2>"
   ]
  },
  {
   "cell_type": "code",
   "execution_count": 3,
   "id": "a32a1188-b07c-4c95-8b7d-79a2adb602b5",
   "metadata": {},
   "outputs": [
    {
     "data": {
      "text/plain": [
       "Index(['App Name', 'App Id', 'Category', 'Rating', 'Rating Count', 'Installs',\n",
       "       'Minimum Installs', 'Maximum Installs', 'Free', 'Price', 'Currency',\n",
       "       'Size', 'Minimum Android', 'Developer Id', 'Developer Website',\n",
       "       'Developer Email', 'Released', 'Last Updated', 'Content Rating',\n",
       "       'Privacy Policy', 'Ad Supported', 'In App Purchases', 'Editors Choice',\n",
       "       'Scraped Time'],\n",
       "      dtype='object')"
      ]
     },
     "execution_count": 3,
     "metadata": {},
     "output_type": "execute_result"
    }
   ],
   "source": [
    "# List the columns in the DataFrame\n",
    "data.columns"
   ]
  },
  {
   "cell_type": "markdown",
   "id": "0efc043e-9176-45b9-9c65-bd0a9e38cfac",
   "metadata": {},
   "source": [
    "<p style='color:green'> The following columns are irrelevant to our analysis and will be excluded: 'Ad Supported', 'App Id', 'Currency', 'Developer Email', 'Developer Website', and 'Privacy Policy'. </p>"
   ]
  },
  {
   "cell_type": "code",
   "execution_count": 4,
   "id": "814c9dcf-6abc-4a91-b474-d9ed898d11a4",
   "metadata": {},
   "outputs": [],
   "source": [
    "# Removing columns that are not relevant for analysis\n",
    "data.drop(columns=['Ad Supported', 'App Id', 'Currency', 'Developer Email', 'Developer Website','Privacy Policy'], inplace=True)"
   ]
  },
  {
   "cell_type": "code",
   "execution_count": 5,
   "id": "77ebefa0-d308-4cc5-94bc-51622560482a",
   "metadata": {},
   "outputs": [
    {
     "data": {
      "text/plain": [
       "(2312944, 18)"
      ]
     },
     "execution_count": 5,
     "metadata": {},
     "output_type": "execute_result"
    }
   ],
   "source": [
    "# no. of rows and columns checking\n",
    "data.shape"
   ]
  },
  {
   "cell_type": "code",
   "execution_count": 6,
   "id": "fddf4c19-912b-4e10-bf89-0b290b623f7e",
   "metadata": {},
   "outputs": [
    {
     "data": {
      "text/plain": [
       "App Name                5\n",
       "Category                0\n",
       "Rating              22883\n",
       "Rating Count        22883\n",
       "Installs              107\n",
       "Minimum Installs      107\n",
       "Maximum Installs        0\n",
       "Free                    0\n",
       "Price                   0\n",
       "Size                  196\n",
       "Minimum Android      6530\n",
       "Developer Id           33\n",
       "Released            71053\n",
       "Last Updated            0\n",
       "Content Rating          0\n",
       "In App Purchases        0\n",
       "Editors Choice          0\n",
       "Scraped Time            0\n",
       "dtype: int64"
      ]
     },
     "execution_count": 6,
     "metadata": {},
     "output_type": "execute_result"
    }
   ],
   "source": [
    "# displaying sum of null\n",
    "data.isnull().sum()"
   ]
  },
  {
   "cell_type": "markdown",
   "id": "559328a0-5856-4ec6-9fa4-2cbdd1fe1bff",
   "metadata": {},
   "source": [
    "<p style='color:green'> The dataset contains missing values across several key features. Specifically, both Rating and Rating Count have 22,883 missing values, which accounts for 0.989% of the total entries. Additionally, there are 107 missing values for both Installs and Minimum Installs, representing 0.0046%. The Size field is missing 196 values (0.0085%), while Minimum Android Version is missing 6,530 values, or 0.2824% of the dataset. Furthermore, 33 entries (0.0014%) are missing for the Developer ID field, and the Release Date is missing 71,053 values, which is 3.072% of the total.</p>"
   ]
  },
  {
   "cell_type": "code",
   "execution_count": 7,
   "id": "599c55c7-f813-4ef2-8fcf-c7c133d7dd0e",
   "metadata": {},
   "outputs": [],
   "source": [
    "# Fill missing values with \"Unknown\"\n",
    "columns_to_replace = ['Installs', 'Minimum Installs', 'Size', 'Minimum Android', 'Developer Id', 'Released','App Name']\n",
    "data[columns_to_replace] = data[columns_to_replace].fillna(\"Unknown\")"
   ]
  },
  {
   "cell_type": "code",
   "execution_count": 8,
   "id": "1a559606-642b-45b3-8bd9-f5b7a0436422",
   "metadata": {},
   "outputs": [
    {
     "data": {
      "text/plain": [
       "App Name                0\n",
       "Category                0\n",
       "Rating              22883\n",
       "Rating Count        22883\n",
       "Installs                0\n",
       "Minimum Installs        0\n",
       "Maximum Installs        0\n",
       "Free                    0\n",
       "Price                   0\n",
       "Size                    0\n",
       "Minimum Android         0\n",
       "Developer Id            0\n",
       "Released                0\n",
       "Last Updated            0\n",
       "Content Rating          0\n",
       "In App Purchases        0\n",
       "Editors Choice          0\n",
       "Scraped Time            0\n",
       "dtype: int64"
      ]
     },
     "execution_count": 8,
     "metadata": {},
     "output_type": "execute_result"
    }
   ],
   "source": [
    "# displaying sum of null\n",
    "data.isnull().sum()"
   ]
  },
  {
   "cell_type": "code",
   "execution_count": 9,
   "id": "7acb2b23-7e95-4c75-87bc-092cef2b1241",
   "metadata": {},
   "outputs": [],
   "source": [
    "# Drop NA values in Rating and Rating Count\n",
    "data = data.dropna(subset=['Rating', 'Rating Count'])"
   ]
  },
  {
   "cell_type": "code",
   "execution_count": 10,
   "id": "5adcaef1-a916-470d-bed6-9cc84ac92ae1",
   "metadata": {},
   "outputs": [
    {
     "data": {
      "text/plain": [
       "App Name            0\n",
       "Category            0\n",
       "Rating              0\n",
       "Rating Count        0\n",
       "Installs            0\n",
       "Minimum Installs    0\n",
       "Maximum Installs    0\n",
       "Free                0\n",
       "Price               0\n",
       "Size                0\n",
       "Minimum Android     0\n",
       "Developer Id        0\n",
       "Released            0\n",
       "Last Updated        0\n",
       "Content Rating      0\n",
       "In App Purchases    0\n",
       "Editors Choice      0\n",
       "Scraped Time        0\n",
       "dtype: int64"
      ]
     },
     "execution_count": 10,
     "metadata": {},
     "output_type": "execute_result"
    }
   ],
   "source": [
    "# displaying sum of null\n",
    "data.isnull().sum()"
   ]
  },
  {
   "cell_type": "markdown",
   "id": "30fc164b-253a-49a0-af4b-f1882ecbe3d1",
   "metadata": {},
   "source": [
    "<h2 style=\"color:#00008B\"> Feature Engineering </h2>"
   ]
  },
  {
   "cell_type": "markdown",
   "id": "5f339329-2804-4e50-af3c-2330c8150c5d",
   "metadata": {},
   "source": [
    "<p style=\"color:green\"> Feature engineering is the process of using domain knowledge to create new input features or modify existing ones from raw data to make our dataset columns more meaningful for our analysis.\n",
    "We will perform feature engineering on few columns like : Size, Minimum Android, Installs, Maximum and Minimum Installs, Content Rating, Rating, In App Purchases, Rating Count, Price</p>"
   ]
  },
  {
   "cell_type": "markdown",
   "id": "43081189-f77b-4df4-8f8a-3af643a5d6dc",
   "metadata": {},
   "source": [
    "<h4 style='color:green'> ~ Size </h4>"
   ]
  },
  {
   "cell_type": "code",
   "execution_count": 11,
   "id": "bddf0fde-4126-4954-84e3-c4311740f12d",
   "metadata": {},
   "outputs": [],
   "source": [
    "def convert_size_to_mb(size):\n",
    "    \n",
    "    #  'Varies with device' and 'Unknown'\n",
    "    if size == 'Varies with device' or size == 'Unknown':\n",
    "        return \"Unknown\" \n",
    "    \n",
    "    # Remove commas from numbers\n",
    "    size = size.replace(',', '')\n",
    "    \n",
    "    # Check the last character for unit type\n",
    "    unit = size[-1]\n",
    "    value = float(size[:-1])  # Get the numerical part before the unit\n",
    "    \n",
    "    if unit == 'k':  \n",
    "        mb_value = value / 1024\n",
    "        return max(1, int(mb_value))  # If less than 1MB, round up to 1\n",
    "    elif unit == 'M':  \n",
    "        return int(value)\n",
    "    elif unit == 'G':  \n",
    "        return int(value * 1024)\n",
    "    else:\n",
    "        return \"Unknown\"  \n",
    "\n",
    "data['Size'] = data['Size'].apply(convert_size_to_mb)"
   ]
  },
  {
   "cell_type": "markdown",
   "id": "7d30d472-664a-4280-9afe-03c8f110439e",
   "metadata": {},
   "source": [
    "<h4 style='color:green'> ~ Minimum Android </h4>"
   ]
  },
  {
   "cell_type": "code",
   "execution_count": 12,
   "id": "0c443302-ffae-474e-95bd-ee65f9014b60",
   "metadata": {},
   "outputs": [],
   "source": [
    "def categorize_android_version(version):\n",
    "    # Handle 'Unknown' and 'Varies with device'\n",
    "    if version == 'Unknown':\n",
    "        return 'Unknown'\n",
    "    elif version == 'Varies with device':\n",
    "        return 'Varies with device'\n",
    "    \n",
    "    # Extract the first part of the version (major version)\n",
    "    try:\n",
    "        major_version = float(version.split('.')[0])  # Get the version before dot (e.g., '5.4.1' -> 5.0)\n",
    "    except ValueError:\n",
    "        return 'Invalid' \n",
    "        \n",
    "    # Categorize versions\n",
    "    if major_version < 5:\n",
    "        return 'Below 5.0'\n",
    "    elif 5 <= major_version < 8:\n",
    "        return '5.0 to 8.0'\n",
    "    else:\n",
    "        return '8.0 and up'\n",
    "\n",
    "data['Minimum Android'] = data['Minimum Android'].apply(categorize_android_version)"
   ]
  },
  {
   "cell_type": "code",
   "execution_count": 13,
   "id": "a7d37089-9c8e-47bb-bbfc-91ff3c29149e",
   "metadata": {},
   "outputs": [
    {
     "data": {
      "text/plain": [
       "0          5.0 to 8.0\n",
       "1          5.0 to 8.0\n",
       "2           Below 5.0\n",
       "3           Below 5.0\n",
       "4           Below 5.0\n",
       "              ...    \n",
       "2312939     Below 5.0\n",
       "2312940     Below 5.0\n",
       "2312941    5.0 to 8.0\n",
       "2312942    5.0 to 8.0\n",
       "2312943    5.0 to 8.0\n",
       "Name: Minimum Android, Length: 2290061, dtype: object"
      ]
     },
     "execution_count": 13,
     "metadata": {},
     "output_type": "execute_result"
    }
   ],
   "source": [
    "data['Minimum Android']"
   ]
  },
  {
   "cell_type": "markdown",
   "id": "5c02887c-f439-442e-93f4-24495f003f6a",
   "metadata": {},
   "source": [
    "<h4 style='color:green'> ~ Installs </h4>"
   ]
  },
  {
   "cell_type": "code",
   "execution_count": 14,
   "id": "64e8e126-42e5-4477-8be9-2b5bd5718118",
   "metadata": {},
   "outputs": [],
   "source": [
    "def categorize_installs(install):\n",
    "    if install.strip() == 'Unknown':\n",
    "        return 'Unknown'\n",
    "    \n",
    "    # Remove commas and '+' sign, and convert to integer\n",
    "    install_cleaned = install.replace(',', '').replace('+', '').strip()\n",
    "    \n",
    "    try:\n",
    "        install_number = int(install_cleaned)\n",
    "    except ValueError:\n",
    "        return 'Invalid'  \n",
    "    \n",
    "    # Categorize based on install ranges\n",
    "    if install_number < 10000:\n",
    "        return '0 to 10,000'\n",
    "    elif install_number < 100000:\n",
    "        return '10,001 to 100,000'\n",
    "    elif install_number < 1000000:\n",
    "        return '100,001 to 1,000,000'\n",
    "    else:\n",
    "        return '1,000,001 and above'\n",
    "\n",
    "data['Installs'] = data['Installs'].apply(categorize_installs)"
   ]
  },
  {
   "cell_type": "code",
   "execution_count": 15,
   "id": "aae47d4a-e4e1-44f1-b088-4dc74ecfa4e3",
   "metadata": {},
   "outputs": [
    {
     "data": {
      "text/plain": [
       "0                   0 to 10,000\n",
       "1                   0 to 10,000\n",
       "2                   0 to 10,000\n",
       "3                   0 to 10,000\n",
       "4                   0 to 10,000\n",
       "                   ...         \n",
       "2312939    100,001 to 1,000,000\n",
       "2312940             0 to 10,000\n",
       "2312941             0 to 10,000\n",
       "2312942             0 to 10,000\n",
       "2312943             0 to 10,000\n",
       "Name: Installs, Length: 2290061, dtype: object"
      ]
     },
     "execution_count": 15,
     "metadata": {},
     "output_type": "execute_result"
    }
   ],
   "source": [
    "data['Installs']"
   ]
  },
  {
   "cell_type": "markdown",
   "id": "2cb99e95-3c09-4ac3-91ba-5d5a5e009fc5",
   "metadata": {},
   "source": [
    "<h4 style='color:green'> ~ Minimum and Maximum Installs </h4>"
   ]
  },
  {
   "cell_type": "code",
   "execution_count": 16,
   "id": "3c8b271d-bb2a-4d7c-82c2-d825386c3000",
   "metadata": {},
   "outputs": [],
   "source": [
    "# Convert Minimum Installs to numeric\n",
    "data['Minimum Installs'] = pd.to_numeric(data['Minimum Installs'], errors='coerce')\n",
    "\n",
    "# Remove rows where Minimum Installs is 0\n",
    "data = data[data['Minimum Installs'] > 0]\n",
    "\n",
    "# Categorize Minimum Installs\n",
    "def categorize_minimum_installs(min_installs):\n",
    "    if min_installs < 1000:\n",
    "        return 'Low'\n",
    "    elif min_installs < 10000:\n",
    "        return 'Medium'\n",
    "    else:\n",
    "        return 'High'\n",
    "\n",
    "data['Minimum Installs'] = data['Minimum Installs'].apply(categorize_minimum_installs)\n",
    "\n",
    "# Categorize Maximum Installs\n",
    "def categorize_maximum_installs(max_installs):\n",
    "    if max_installs < 1000:\n",
    "        return 'Low'\n",
    "    elif max_installs < 100000:\n",
    "        return 'Medium'\n",
    "    else:\n",
    "        return 'High'\n",
    "\n",
    "data['Maximum Installs'] = data['Maximum Installs'].apply(categorize_maximum_installs)"
   ]
  },
  {
   "cell_type": "code",
   "execution_count": 17,
   "id": "f88b0e18-c8a2-4bc3-8d24-3695f434cba6",
   "metadata": {},
   "outputs": [
    {
     "data": {
      "text/plain": [
       "0             Low\n",
       "1          Medium\n",
       "2             Low\n",
       "3             Low\n",
       "4             Low\n",
       "            ...  \n",
       "2312939      High\n",
       "2312940       Low\n",
       "2312941       Low\n",
       "2312942    Medium\n",
       "2312943       Low\n",
       "Name: Minimum Installs, Length: 2278748, dtype: object"
      ]
     },
     "execution_count": 17,
     "metadata": {},
     "output_type": "execute_result"
    }
   ],
   "source": [
    "data['Minimum Installs']"
   ]
  },
  {
   "cell_type": "code",
   "execution_count": 18,
   "id": "e35fcd6b-2d66-4036-912a-fe9e0fc7fe6a",
   "metadata": {},
   "outputs": [
    {
     "data": {
      "text/plain": [
       "0             Low\n",
       "1          Medium\n",
       "2             Low\n",
       "3             Low\n",
       "4             Low\n",
       "            ...  \n",
       "2312939      High\n",
       "2312940       Low\n",
       "2312941       Low\n",
       "2312942    Medium\n",
       "2312943       Low\n",
       "Name: Minimum Installs, Length: 2278748, dtype: object"
      ]
     },
     "execution_count": 18,
     "metadata": {},
     "output_type": "execute_result"
    }
   ],
   "source": [
    "data['Minimum Installs']"
   ]
  },
  {
   "cell_type": "markdown",
   "id": "84fb7469-0d15-4715-92e1-e90343201535",
   "metadata": {},
   "source": [
    "<h4 style='color:green'> ~ Content Rating </h4>"
   ]
  },
  {
   "cell_type": "code",
   "execution_count": 19,
   "id": "b34cbddf-9464-43c0-bcba-2194a9f6af01",
   "metadata": {},
   "outputs": [
    {
     "name": "stdout",
     "output_type": "stream",
     "text": [
      "Content Rating\n",
      "Everyone           1992976\n",
      "Teen                192781\n",
      "Mature 17+           59617\n",
      "Everyone 10+         33088\n",
      "Unrated                154\n",
      "Adults only 18+        132\n",
      "Name: count, dtype: int64\n"
     ]
    }
   ],
   "source": [
    "# to check all the ctaegory of content rating\n",
    "print(data['Content Rating'].value_counts())"
   ]
  },
  {
   "cell_type": "code",
   "execution_count": 20,
   "id": "e5feacee-539a-49ce-850d-02bc6897d0a2",
   "metadata": {},
   "outputs": [],
   "source": [
    "# converting to content rating to str\n",
    "data['Content Rating'] = data['Content Rating'].astype(str)\n",
    "\n",
    "# Create a mapping dictionary\n",
    "content_rating_mapping = {\n",
    "    'Everyone': 'Everyone',\n",
    "    'Teen': 'Teenager',       \n",
    "    'Mature 17+': 'Teenager',\n",
    "    'Everyone 10+': '10+',     \n",
    "    'Unrated': 'Unrated',\n",
    "    'Adults only 18+': '18+'   \n",
    "}\n",
    " \n",
    "data['Content Rating'] = data['Content Rating'].map(content_rating_mapping)"
   ]
  },
  {
   "cell_type": "code",
   "execution_count": 21,
   "id": "ceb7199f-c784-4c53-9d50-0d01a63c7c1a",
   "metadata": {},
   "outputs": [
    {
     "data": {
      "text/plain": [
       "Content Rating\n",
       "Everyone    1992976\n",
       "Teenager     252398\n",
       "10+           33088\n",
       "Unrated         154\n",
       "18+             132\n",
       "Name: count, dtype: int64"
      ]
     },
     "execution_count": 21,
     "metadata": {},
     "output_type": "execute_result"
    }
   ],
   "source": [
    "data['Content Rating'].value_counts()"
   ]
  },
  {
   "cell_type": "markdown",
   "id": "ab6a1a85-ee53-471b-91ea-a1b377b36637",
   "metadata": {},
   "source": [
    "<h4 style='color:green'> ~ Rating </h4>"
   ]
  },
  {
   "cell_type": "code",
   "execution_count": 22,
   "id": "7bab7b3b-9fb4-4f2c-9435-cb00d40c0fbb",
   "metadata": {},
   "outputs": [
    {
     "name": "stdout",
     "output_type": "stream",
     "text": [
      "Rating\n",
      "0.0    1048592\n",
      "5.0     100103\n",
      "4.2      87984\n",
      "4.4      86298\n",
      "4.3      83271\n",
      "4.6      78296\n",
      "4.5      76743\n",
      "4.1      69718\n",
      "4.0      67336\n",
      "4.7      62199\n",
      "4.8      61098\n",
      "3.9      55679\n",
      "3.8      53858\n",
      "4.9      44521\n",
      "3.7      43296\n",
      "3.6      35984\n",
      "3.5      31631\n",
      "3.4      28903\n",
      "3.3      22609\n",
      "3.2      21483\n",
      "3.0      17274\n",
      "3.1      15539\n",
      "2.8      12234\n",
      "2.9      11518\n",
      "2.6       9211\n",
      "2.7       9199\n",
      "2.5       6941\n",
      "2.4       6049\n",
      "2.3       5413\n",
      "2.2       4951\n",
      "2.0       3803\n",
      "2.1       3674\n",
      "1.8       2957\n",
      "1.9       2587\n",
      "1.7       1927\n",
      "1.6       1644\n",
      "1.5       1156\n",
      "1.4       1011\n",
      "1.0        712\n",
      "1.3        579\n",
      "1.2        531\n",
      "1.1        236\n",
      "Name: count, dtype: int64\n"
     ]
    }
   ],
   "source": [
    "print(data['Rating'].value_counts())"
   ]
  },
  {
   "cell_type": "code",
   "execution_count": 23,
   "id": "cea78bb9-9810-4434-a0b5-ba1cba3079da",
   "metadata": {},
   "outputs": [],
   "source": [
    "# Convert the 'Rating' column to numeric, setting errors='coerce' to convert invalid entries to NaN\n",
    "data['Rating'] = pd.to_numeric(data['Rating'], errors='coerce')\n",
    "\n",
    "def categorize_rating(rating):\n",
    "    if pd.isna(rating):\n",
    "        return np.nan \n",
    "    elif rating >= 4.6:\n",
    "        return \"Excellent\"\n",
    "    elif rating >= 3.6:\n",
    "        return \"High\"\n",
    "    elif rating >= 2.1:\n",
    "        return \"Medium\"\n",
    "    else:\n",
    "        return \"Low\"\n",
    "\n",
    "# Apply the categorization function\n",
    "data['Rating'] = data['Rating'].apply(categorize_rating)\n",
    "\n",
    "data.dropna(subset=['Rating'], inplace=True)"
   ]
  },
  {
   "cell_type": "code",
   "execution_count": 24,
   "id": "956c7165-e48d-4a65-9ede-feca9599a4a7",
   "metadata": {},
   "outputs": [
    {
     "data": {
      "text/plain": [
       "Rating\n",
       "Low          1065735\n",
       "High          660167\n",
       "Excellent     346217\n",
       "Medium        206629\n",
       "Name: count, dtype: int64"
      ]
     },
     "execution_count": 24,
     "metadata": {},
     "output_type": "execute_result"
    }
   ],
   "source": [
    "data['Rating'].value_counts()"
   ]
  },
  {
   "cell_type": "markdown",
   "id": "28eba781-2c1b-4731-b825-af386450681b",
   "metadata": {},
   "source": [
    "<h4 style='color:green'> ~ In App Purchases </h4>"
   ]
  },
  {
   "cell_type": "code",
   "execution_count": 25,
   "id": "227daf96-c72b-460f-9847-d44ab06bed23",
   "metadata": {},
   "outputs": [],
   "source": [
    "# Convert 'In App Purchases' to numeric, forcing errors to NaN for non-convertible values\n",
    "data['In App Purchases'] = pd.to_numeric(data['In App Purchases'], errors='coerce')\n",
    "\n",
    "# Function to categorize apps based on Free and In-App Purchases\n",
    "def categorize_app(row):\n",
    "    if row['Free']: \n",
    "        return \"Free\"\n",
    "    elif pd.notna(row['In App Purchases']) and row['In App Purchases'] > 0: \n",
    "        return \"In App Purchases\"\n",
    "    else: \n",
    "        return \"Paid\"\n",
    "\n",
    "data['In App Purchases'] = data.apply(categorize_app, axis=1)"
   ]
  },
  {
   "cell_type": "code",
   "execution_count": 26,
   "id": "b20f30e9-f04d-4fbf-a4b8-490751d7d27d",
   "metadata": {},
   "outputs": [
    {
     "data": {
      "text/plain": [
       "0          Free\n",
       "1          Free\n",
       "2          Free\n",
       "3          Free\n",
       "4          Free\n",
       "           ... \n",
       "2312939    Free\n",
       "2312940    Free\n",
       "2312941    Free\n",
       "2312942    Free\n",
       "2312943    Free\n",
       "Name: In App Purchases, Length: 2278748, dtype: object"
      ]
     },
     "execution_count": 26,
     "metadata": {},
     "output_type": "execute_result"
    }
   ],
   "source": [
    "data['In App Purchases']"
   ]
  },
  {
   "cell_type": "markdown",
   "id": "ce714241-3d7c-432b-8479-9e66f3130d8d",
   "metadata": {},
   "source": [
    "<h4 style='color:green'> ~ Rating Count </h4>"
   ]
  },
  {
   "cell_type": "code",
   "execution_count": 27,
   "id": "c04980fb-2249-401c-b806-e996a9640388",
   "metadata": {},
   "outputs": [
    {
     "data": {
      "text/plain": [
       "Rating Count\n",
       "0.0          1048592\n",
       "5.0            64275\n",
       "6.0            54306\n",
       "7.0            46827\n",
       "8.0            40578\n",
       "              ...   \n",
       "9028.0             1\n",
       "27999.0            1\n",
       "1271735.0          1\n",
       "29786.0            1\n",
       "78351.0            1\n",
       "Name: count, Length: 38482, dtype: int64"
      ]
     },
     "execution_count": 27,
     "metadata": {},
     "output_type": "execute_result"
    }
   ],
   "source": [
    "data['Rating Count'].value_counts()"
   ]
  },
  {
   "cell_type": "code",
   "execution_count": 28,
   "id": "f8516650-babe-4fc2-bb07-307031f437b4",
   "metadata": {},
   "outputs": [],
   "source": [
    "# Define bins and labels for categorizing rating counts, excluding \"No Ratings\"\n",
    "bins = [0, 100, 1000, 10000, float('inf')]  # Bins starting from 0\n",
    "labels = ['Low', 'Medium', 'High', 'Very High']\n",
    "\n",
    "data['Rating Count'] = pd.cut(data['Rating Count'], bins=bins, labels=labels)"
   ]
  },
  {
   "cell_type": "code",
   "execution_count": 29,
   "id": "be2f44ca-9852-4a4a-bbe6-27f1ad9ba7bb",
   "metadata": {},
   "outputs": [
    {
     "data": {
      "text/plain": [
       "0                NaN\n",
       "1                Low\n",
       "2                NaN\n",
       "3                Low\n",
       "4                NaN\n",
       "             ...    \n",
       "2312939    Very High\n",
       "2312940          NaN\n",
       "2312941          NaN\n",
       "2312942          Low\n",
       "2312943          Low\n",
       "Name: Rating Count, Length: 2278748, dtype: category\n",
       "Categories (4, object): ['Low' < 'Medium' < 'High' < 'Very High']"
      ]
     },
     "execution_count": 29,
     "metadata": {},
     "output_type": "execute_result"
    }
   ],
   "source": [
    "data['Rating Count']"
   ]
  },
  {
   "cell_type": "markdown",
   "id": "e253d7db-5003-423d-b06a-c1aa2c96e644",
   "metadata": {},
   "source": [
    "<h4 style='color:green'> ~ Price </h4>"
   ]
  },
  {
   "cell_type": "code",
   "execution_count": 30,
   "id": "f3fc5fa8-12cf-4c41-84f3-9c6403c53807",
   "metadata": {},
   "outputs": [],
   "source": [
    "data['Price'] = pd.to_numeric(data['Price'], errors='coerce')\n",
    "# Define bins and labels\n",
    "bins = [-1, 0, 50, 150, float('inf')]  # -1 for inclusive lower bounds\n",
    "labels = ['Free', 'Low-cost', 'Medium-cost', 'High-cost']\n",
    "\n",
    "data['Price'] = pd.cut(data['Price'], bins=bins, labels=labels)"
   ]
  },
  {
   "cell_type": "code",
   "execution_count": 31,
   "id": "98a4e670-15b5-41da-a323-4d765d5acc16",
   "metadata": {},
   "outputs": [
    {
     "data": {
      "text/plain": [
       "Price\n",
       "Free           2235163\n",
       "Low-cost         43177\n",
       "Medium-cost        320\n",
       "High-cost           88\n",
       "Name: count, dtype: int64"
      ]
     },
     "execution_count": 31,
     "metadata": {},
     "output_type": "execute_result"
    }
   ],
   "source": [
    "data['Price'].value_counts()"
   ]
  },
  {
   "cell_type": "code",
   "execution_count": 32,
   "id": "72604715-83c3-442c-82aa-41e746cec08f",
   "metadata": {},
   "outputs": [
    {
     "data": {
      "text/html": [
       "<div>\n",
       "<style scoped>\n",
       "    .dataframe tbody tr th:only-of-type {\n",
       "        vertical-align: middle;\n",
       "    }\n",
       "\n",
       "    .dataframe tbody tr th {\n",
       "        vertical-align: top;\n",
       "    }\n",
       "\n",
       "    .dataframe thead th {\n",
       "        text-align: right;\n",
       "    }\n",
       "</style>\n",
       "<table border=\"1\" class=\"dataframe\">\n",
       "  <thead>\n",
       "    <tr style=\"text-align: right;\">\n",
       "      <th></th>\n",
       "      <th>App Name</th>\n",
       "      <th>Category</th>\n",
       "      <th>Rating</th>\n",
       "      <th>Rating Count</th>\n",
       "      <th>Installs</th>\n",
       "      <th>Minimum Installs</th>\n",
       "      <th>Maximum Installs</th>\n",
       "      <th>Free</th>\n",
       "      <th>Price</th>\n",
       "      <th>Size</th>\n",
       "      <th>Minimum Android</th>\n",
       "      <th>Developer Id</th>\n",
       "      <th>Released</th>\n",
       "      <th>Last Updated</th>\n",
       "      <th>Content Rating</th>\n",
       "      <th>In App Purchases</th>\n",
       "      <th>Editors Choice</th>\n",
       "      <th>Scraped Time</th>\n",
       "    </tr>\n",
       "  </thead>\n",
       "  <tbody>\n",
       "    <tr>\n",
       "      <th>0</th>\n",
       "      <td>Gakondo</td>\n",
       "      <td>Adventure</td>\n",
       "      <td>Low</td>\n",
       "      <td>NaN</td>\n",
       "      <td>0 to 10,000</td>\n",
       "      <td>Low</td>\n",
       "      <td>Low</td>\n",
       "      <td>True</td>\n",
       "      <td>Free</td>\n",
       "      <td>10</td>\n",
       "      <td>5.0 to 8.0</td>\n",
       "      <td>Jean Confident Irénée NIYIZIBYOSE</td>\n",
       "      <td>Feb 26, 2020</td>\n",
       "      <td>Feb 26, 2020</td>\n",
       "      <td>Everyone</td>\n",
       "      <td>Free</td>\n",
       "      <td>False</td>\n",
       "      <td>2021-06-15 20:19:35</td>\n",
       "    </tr>\n",
       "    <tr>\n",
       "      <th>1</th>\n",
       "      <td>Ampere Battery Info</td>\n",
       "      <td>Tools</td>\n",
       "      <td>High</td>\n",
       "      <td>Low</td>\n",
       "      <td>0 to 10,000</td>\n",
       "      <td>Medium</td>\n",
       "      <td>Medium</td>\n",
       "      <td>True</td>\n",
       "      <td>Free</td>\n",
       "      <td>2</td>\n",
       "      <td>5.0 to 8.0</td>\n",
       "      <td>Webserveis</td>\n",
       "      <td>May 21, 2020</td>\n",
       "      <td>May 06, 2021</td>\n",
       "      <td>Everyone</td>\n",
       "      <td>Free</td>\n",
       "      <td>False</td>\n",
       "      <td>2021-06-15 20:19:35</td>\n",
       "    </tr>\n",
       "    <tr>\n",
       "      <th>2</th>\n",
       "      <td>Vibook</td>\n",
       "      <td>Productivity</td>\n",
       "      <td>Low</td>\n",
       "      <td>NaN</td>\n",
       "      <td>0 to 10,000</td>\n",
       "      <td>Low</td>\n",
       "      <td>Low</td>\n",
       "      <td>True</td>\n",
       "      <td>Free</td>\n",
       "      <td>3</td>\n",
       "      <td>Below 5.0</td>\n",
       "      <td>Cabin Crew</td>\n",
       "      <td>Aug 9, 2019</td>\n",
       "      <td>Aug 19, 2019</td>\n",
       "      <td>Everyone</td>\n",
       "      <td>Free</td>\n",
       "      <td>False</td>\n",
       "      <td>2021-06-15 20:19:35</td>\n",
       "    </tr>\n",
       "    <tr>\n",
       "      <th>3</th>\n",
       "      <td>Smart City Trichy Public Service Vehicles 17UC...</td>\n",
       "      <td>Communication</td>\n",
       "      <td>Excellent</td>\n",
       "      <td>Low</td>\n",
       "      <td>0 to 10,000</td>\n",
       "      <td>Low</td>\n",
       "      <td>Low</td>\n",
       "      <td>True</td>\n",
       "      <td>Free</td>\n",
       "      <td>1</td>\n",
       "      <td>Below 5.0</td>\n",
       "      <td>Climate Smart Tech2</td>\n",
       "      <td>Sep 10, 2018</td>\n",
       "      <td>Oct 13, 2018</td>\n",
       "      <td>Everyone</td>\n",
       "      <td>Free</td>\n",
       "      <td>False</td>\n",
       "      <td>2021-06-15 20:19:35</td>\n",
       "    </tr>\n",
       "    <tr>\n",
       "      <th>4</th>\n",
       "      <td>GROW.me</td>\n",
       "      <td>Tools</td>\n",
       "      <td>Low</td>\n",
       "      <td>NaN</td>\n",
       "      <td>0 to 10,000</td>\n",
       "      <td>Low</td>\n",
       "      <td>Low</td>\n",
       "      <td>True</td>\n",
       "      <td>Free</td>\n",
       "      <td>6</td>\n",
       "      <td>Below 5.0</td>\n",
       "      <td>Rafal Milek-Horodyski</td>\n",
       "      <td>Feb 21, 2020</td>\n",
       "      <td>Nov 12, 2018</td>\n",
       "      <td>Everyone</td>\n",
       "      <td>Free</td>\n",
       "      <td>False</td>\n",
       "      <td>2021-06-15 20:19:35</td>\n",
       "    </tr>\n",
       "    <tr>\n",
       "      <th>...</th>\n",
       "      <td>...</td>\n",
       "      <td>...</td>\n",
       "      <td>...</td>\n",
       "      <td>...</td>\n",
       "      <td>...</td>\n",
       "      <td>...</td>\n",
       "      <td>...</td>\n",
       "      <td>...</td>\n",
       "      <td>...</td>\n",
       "      <td>...</td>\n",
       "      <td>...</td>\n",
       "      <td>...</td>\n",
       "      <td>...</td>\n",
       "      <td>...</td>\n",
       "      <td>...</td>\n",
       "      <td>...</td>\n",
       "      <td>...</td>\n",
       "      <td>...</td>\n",
       "    </tr>\n",
       "    <tr>\n",
       "      <th>2312939</th>\n",
       "      <td>大俠客—熱血歸來</td>\n",
       "      <td>Role Playing</td>\n",
       "      <td>High</td>\n",
       "      <td>Very High</td>\n",
       "      <td>100,001 to 1,000,000</td>\n",
       "      <td>High</td>\n",
       "      <td>High</td>\n",
       "      <td>True</td>\n",
       "      <td>Free</td>\n",
       "      <td>77</td>\n",
       "      <td>Below 5.0</td>\n",
       "      <td>ALICE GAME</td>\n",
       "      <td>Unknown</td>\n",
       "      <td>Jun 01, 2021</td>\n",
       "      <td>Teenager</td>\n",
       "      <td>Free</td>\n",
       "      <td>False</td>\n",
       "      <td>2021-06-16 12:59:18</td>\n",
       "    </tr>\n",
       "    <tr>\n",
       "      <th>2312940</th>\n",
       "      <td>ORU Online</td>\n",
       "      <td>Education</td>\n",
       "      <td>Low</td>\n",
       "      <td>NaN</td>\n",
       "      <td>0 to 10,000</td>\n",
       "      <td>Low</td>\n",
       "      <td>Low</td>\n",
       "      <td>True</td>\n",
       "      <td>Free</td>\n",
       "      <td>44</td>\n",
       "      <td>Below 5.0</td>\n",
       "      <td>3Dream Studios, LLC</td>\n",
       "      <td>Jan 17, 2018</td>\n",
       "      <td>Feb 02, 2018</td>\n",
       "      <td>Everyone</td>\n",
       "      <td>Free</td>\n",
       "      <td>False</td>\n",
       "      <td>2021-06-16 12:59:19</td>\n",
       "    </tr>\n",
       "    <tr>\n",
       "      <th>2312941</th>\n",
       "      <td>Data Structure</td>\n",
       "      <td>Education</td>\n",
       "      <td>Low</td>\n",
       "      <td>NaN</td>\n",
       "      <td>0 to 10,000</td>\n",
       "      <td>Low</td>\n",
       "      <td>Low</td>\n",
       "      <td>True</td>\n",
       "      <td>Free</td>\n",
       "      <td>29</td>\n",
       "      <td>5.0 to 8.0</td>\n",
       "      <td>appoworld</td>\n",
       "      <td>Aug 19, 2018</td>\n",
       "      <td>Aug 19, 2018</td>\n",
       "      <td>Everyone</td>\n",
       "      <td>Free</td>\n",
       "      <td>False</td>\n",
       "      <td>2021-06-16 12:59:19</td>\n",
       "    </tr>\n",
       "    <tr>\n",
       "      <th>2312942</th>\n",
       "      <td>Devi Suktam</td>\n",
       "      <td>Music &amp; Audio</td>\n",
       "      <td>Medium</td>\n",
       "      <td>Low</td>\n",
       "      <td>0 to 10,000</td>\n",
       "      <td>Medium</td>\n",
       "      <td>Medium</td>\n",
       "      <td>True</td>\n",
       "      <td>Free</td>\n",
       "      <td>10</td>\n",
       "      <td>5.0 to 8.0</td>\n",
       "      <td>Bhakti</td>\n",
       "      <td>Aug 1, 2016</td>\n",
       "      <td>May 05, 2021</td>\n",
       "      <td>Everyone</td>\n",
       "      <td>Free</td>\n",
       "      <td>False</td>\n",
       "      <td>2021-06-16 12:59:19</td>\n",
       "    </tr>\n",
       "    <tr>\n",
       "      <th>2312943</th>\n",
       "      <td>Biliyor Musun - Sonsuz Yarış</td>\n",
       "      <td>Trivia</td>\n",
       "      <td>Excellent</td>\n",
       "      <td>Low</td>\n",
       "      <td>0 to 10,000</td>\n",
       "      <td>Low</td>\n",
       "      <td>Low</td>\n",
       "      <td>True</td>\n",
       "      <td>Free</td>\n",
       "      <td>5</td>\n",
       "      <td>5.0 to 8.0</td>\n",
       "      <td>Y Yazılım</td>\n",
       "      <td>Aug 9, 2019</td>\n",
       "      <td>Aug 19, 2019</td>\n",
       "      <td>Everyone</td>\n",
       "      <td>Free</td>\n",
       "      <td>False</td>\n",
       "      <td>2021-06-16 12:59:19</td>\n",
       "    </tr>\n",
       "  </tbody>\n",
       "</table>\n",
       "<p>2278748 rows × 18 columns</p>\n",
       "</div>"
      ],
      "text/plain": [
       "                                                  App Name       Category  \\\n",
       "0                                                  Gakondo      Adventure   \n",
       "1                                      Ampere Battery Info          Tools   \n",
       "2                                                   Vibook   Productivity   \n",
       "3        Smart City Trichy Public Service Vehicles 17UC...  Communication   \n",
       "4                                                  GROW.me          Tools   \n",
       "...                                                    ...            ...   \n",
       "2312939                                           大俠客—熱血歸來   Role Playing   \n",
       "2312940                                         ORU Online      Education   \n",
       "2312941                                     Data Structure      Education   \n",
       "2312942                                        Devi Suktam  Music & Audio   \n",
       "2312943                       Biliyor Musun - Sonsuz Yarış         Trivia   \n",
       "\n",
       "            Rating Rating Count              Installs Minimum Installs  \\\n",
       "0              Low          NaN           0 to 10,000              Low   \n",
       "1             High          Low           0 to 10,000           Medium   \n",
       "2              Low          NaN           0 to 10,000              Low   \n",
       "3        Excellent          Low           0 to 10,000              Low   \n",
       "4              Low          NaN           0 to 10,000              Low   \n",
       "...            ...          ...                   ...              ...   \n",
       "2312939       High    Very High  100,001 to 1,000,000             High   \n",
       "2312940        Low          NaN           0 to 10,000              Low   \n",
       "2312941        Low          NaN           0 to 10,000              Low   \n",
       "2312942     Medium          Low           0 to 10,000           Medium   \n",
       "2312943  Excellent          Low           0 to 10,000              Low   \n",
       "\n",
       "        Maximum Installs  Free Price Size Minimum Android  \\\n",
       "0                    Low  True  Free   10      5.0 to 8.0   \n",
       "1                 Medium  True  Free    2      5.0 to 8.0   \n",
       "2                    Low  True  Free    3       Below 5.0   \n",
       "3                    Low  True  Free    1       Below 5.0   \n",
       "4                    Low  True  Free    6       Below 5.0   \n",
       "...                  ...   ...   ...  ...             ...   \n",
       "2312939             High  True  Free   77       Below 5.0   \n",
       "2312940              Low  True  Free   44       Below 5.0   \n",
       "2312941              Low  True  Free   29      5.0 to 8.0   \n",
       "2312942           Medium  True  Free   10      5.0 to 8.0   \n",
       "2312943              Low  True  Free    5      5.0 to 8.0   \n",
       "\n",
       "                              Developer Id      Released  Last Updated  \\\n",
       "0        Jean Confident Irénée NIYIZIBYOSE  Feb 26, 2020  Feb 26, 2020   \n",
       "1                               Webserveis  May 21, 2020  May 06, 2021   \n",
       "2                               Cabin Crew   Aug 9, 2019  Aug 19, 2019   \n",
       "3                      Climate Smart Tech2  Sep 10, 2018  Oct 13, 2018   \n",
       "4                    Rafal Milek-Horodyski  Feb 21, 2020  Nov 12, 2018   \n",
       "...                                    ...           ...           ...   \n",
       "2312939                         ALICE GAME       Unknown  Jun 01, 2021   \n",
       "2312940                3Dream Studios, LLC  Jan 17, 2018  Feb 02, 2018   \n",
       "2312941                          appoworld  Aug 19, 2018  Aug 19, 2018   \n",
       "2312942                             Bhakti   Aug 1, 2016  May 05, 2021   \n",
       "2312943                          Y Yazılım   Aug 9, 2019  Aug 19, 2019   \n",
       "\n",
       "        Content Rating In App Purchases  Editors Choice         Scraped Time  \n",
       "0             Everyone             Free           False  2021-06-15 20:19:35  \n",
       "1             Everyone             Free           False  2021-06-15 20:19:35  \n",
       "2             Everyone             Free           False  2021-06-15 20:19:35  \n",
       "3             Everyone             Free           False  2021-06-15 20:19:35  \n",
       "4             Everyone             Free           False  2021-06-15 20:19:35  \n",
       "...                ...              ...             ...                  ...  \n",
       "2312939       Teenager             Free           False  2021-06-16 12:59:18  \n",
       "2312940       Everyone             Free           False  2021-06-16 12:59:19  \n",
       "2312941       Everyone             Free           False  2021-06-16 12:59:19  \n",
       "2312942       Everyone             Free           False  2021-06-16 12:59:19  \n",
       "2312943       Everyone             Free           False  2021-06-16 12:59:19  \n",
       "\n",
       "[2278748 rows x 18 columns]"
      ]
     },
     "execution_count": 32,
     "metadata": {},
     "output_type": "execute_result"
    }
   ],
   "source": [
    "data"
   ]
  },
  {
   "cell_type": "code",
   "execution_count": 33,
   "id": "63fc7a72-bf09-4d3f-b8f0-4f811520a117",
   "metadata": {},
   "outputs": [],
   "source": [
    "data.to_csv('googleplay.csv', index=False, encoding='utf-8')"
   ]
  }
 ],
 "metadata": {
  "kernelspec": {
   "display_name": "Python 3 (ipykernel)",
   "language": "python",
   "name": "python3"
  },
  "language_info": {
   "codemirror_mode": {
    "name": "ipython",
    "version": 3
   },
   "file_extension": ".py",
   "mimetype": "text/x-python",
   "name": "python",
   "nbconvert_exporter": "python",
   "pygments_lexer": "ipython3",
   "version": "3.12.7"
  }
 },
 "nbformat": 4,
 "nbformat_minor": 5
}
